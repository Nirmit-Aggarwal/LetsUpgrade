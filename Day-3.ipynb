{
  "nbformat": 4,
  "nbformat_minor": 0,
  "metadata": {
    "colab": {
      "name": "Day3.ipynb",
      "provenance": [],
      "collapsed_sections": []
    },
    "kernelspec": {
      "name": "python3",
      "display_name": "Python 3"
    }
  },
  "cells": [
    {
      "cell_type": "markdown",
      "metadata": {
        "id": "mk1hpfOi7ecv"
      },
      "source": [
        "# 1. use IF ELSE and ELIF to write a program in python for your Report Cards"
      ]
    },
    {
      "cell_type": "code",
      "metadata": {
        "colab": {
          "base_uri": "https://localhost:8080/"
        },
        "id": "QfNCKcUe6W6Q",
        "outputId": "7747175a-50d0-4f5e-a162-0b69dbf7dc15"
      },
      "source": [
        "msg = 'enter the percentage of student:'\r\n",
        "\r\n",
        "print(msg)\r\n",
        "a = input()\r\n",
        "\r\n",
        "a = int(a.strip())\r\n",
        "if(a>90):\r\n",
        "    print('Grade - \\'A+\\'')\r\n",
        "if(a<=90 and a>85):\r\n",
        "    print('Grade - \\'A\\'')\r\n",
        "elif(a<=85 and a>80):\r\n",
        "    print('Grade - \\'A-\\'')\r\n",
        "elif(a>70 and a<=80):\r\n",
        "    print('Grade - \\'B\\'')\r\n",
        "elif(a>60 and a<=70):\r\n",
        "    print('Grade - \\'C\\'')\r\n",
        "elif(a>40 and a<=60):\r\n",
        "    print('Grade - \\'D\\'')\r\n",
        "elif(a<=40):\r\n",
        "    if(a<=35):\r\n",
        "        print('Grade - \\'F\\' Candidate failed')\r\n",
        "    else:\r\n",
        "        print('Grade - \\'E\\'')\r\n"
      ],
      "execution_count": null,
      "outputs": [
        {
          "output_type": "stream",
          "text": [
            "enter the percentage of student:\n",
            "45\n",
            "Grade - 'D'\n"
          ],
          "name": "stdout"
        }
      ]
    },
    {
      "cell_type": "markdown",
      "metadata": {
        "id": "9YTHZiIu_dUf"
      },
      "source": [
        "# 2. Use For Loop to Print Prime Numbers in between 1 to 1000"
      ]
    },
    {
      "cell_type": "code",
      "metadata": {
        "colab": {
          "base_uri": "https://localhost:8080/"
        },
        "id": "2Nf3zTy8_ads",
        "outputId": "178a38f3-6cf0-4fe4-9640-85d69d7bcb64"
      },
      "source": [
        "print(\"Prime numbers between 1 and 1000 are:\")\r\n",
        "for num in range(1, 1001): # 1001 is used because Range() function doesn't count last value so if we use 1000 the last value will be 999\r\n",
        "   # all prime numbers are greater than 1\r\n",
        "   if num > 1:\r\n",
        "       for i in range(2, num):\r\n",
        "           if (num % i) == 0:\r\n",
        "               break\r\n",
        "       else:\r\n",
        "           print(num)"
      ],
      "execution_count": null,
      "outputs": [
        {
          "output_type": "stream",
          "text": [
            "Prime numbers between 1 and 1000 are:\n",
            "2\n"
          ],
          "name": "stdout"
        }
      ]
    },
    {
      "cell_type": "markdown",
      "metadata": {
        "id": "uSMw6oJRBVE5"
      },
      "source": [
        "# 3. Write a program for printing the tabels from 1,10 using Nested For Loop"
      ]
    },
    {
      "cell_type": "code",
      "metadata": {
        "colab": {
          "base_uri": "https://localhost:8080/"
        },
        "id": "QPlryAsnBdt6",
        "outputId": "29192e96-1a56-43c4-a5b9-837350733bd2"
      },
      "source": [
        "for i in range(1, 10):\r\n",
        "    print(\"i =\", i, \":\", end=\" \")\r\n",
        "    for j in range(1, 10):\r\n",
        "        print(\"[\"+\"{:02d}\".format(i * j), end=\"\"+\"]\")\r\n",
        "    print()"
      ],
      "execution_count": null,
      "outputs": [
        {
          "output_type": "stream",
          "text": [
            "i = 1 : [01][02][03][04][05][06][07][08][09]\n",
            "i = 2 : [02][04][06][08][10][12][14][16][18]\n",
            "i = 3 : [03][06][09][12][15][18][21][24][27]\n",
            "i = 4 : [04][08][12][16][20][24][28][32][36]\n",
            "i = 5 : [05][10][15][20][25][30][35][40][45]\n",
            "i = 6 : [06][12][18][24][30][36][42][48][54]\n",
            "i = 7 : [07][14][21][28][35][42][49][56][63]\n",
            "i = 8 : [08][16][24][32][40][48][56][64][72]\n",
            "i = 9 : [09][18][27][36][45][54][63][72][81]\n"
          ],
          "name": "stdout"
        }
      ]
    },
    {
      "cell_type": "markdown",
      "metadata": {
        "id": "M-EwyrRCCka4"
      },
      "source": [
        "# 4. Write a program to Print X Prime Numbers using While Loop starting from 0, and take the Input of X from the User"
      ]
    },
    {
      "cell_type": "code",
      "metadata": {
        "id": "S_uBUavQQFzs",
        "colab": {
          "base_uri": "https://localhost:8080/"
        },
        "outputId": "7d62aef0-4fed-42a8-812b-d7371613932c"
      },
      "source": [
        "number = 0\r\n",
        "X = int(input(\"Enter the Maximum limit upto which you want to find Prime Number\"))\r\n",
        "while (number<=X\\):\r\n",
        "  count = 0\r\n",
        "  i=2\r\n",
        "\r\n",
        "  while (i<= number//2):\r\n",
        "    if(number%i==0):\r\n",
        "      count += 1\r\n",
        "      break\r\n",
        "    i+=1\r\n",
        "\r\n",
        "  if (count ==0 and number!=1):\r\n",
        "    print(number,end=' ')\r\n",
        "  number += 1"
      ],
      "execution_count": 5,
      "outputs": [
        {
          "output_type": "stream",
          "text": [
            "Enter the Maximum limit upto which you want to find Prime Number500\n",
            "0 2 3 5 7 11 13 17 19 23 29 31 37 41 43 47 53 59 61 67 71 73 79 83 89 97 101 103 107 109 113 127 131 137 139 149 151 157 163 167 173 179 181 191 193 197 199 211 223 227 229 233 239 241 251 257 263 269 271 277 281 283 293 307 311 313 317 331 337 347 349 353 359 367 373 379 383 389 397 401 409 419 421 431 433 439 443 449 457 461 463 467 479 487 491 499 "
          ],
          "name": "stdout"
        }
      ]
    }
  ]
}