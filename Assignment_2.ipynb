{
  "nbformat": 4,
  "nbformat_minor": 0,
  "metadata": {
    "colab": {
      "name": "Assignment-2.ipynb",
      "provenance": []
    },
    "kernelspec": {
      "name": "python3",
      "display_name": "Python 3"
    }
  },
  "cells": [
    {
      "cell_type": "markdown",
      "metadata": {
        "id": "ME7m5Kvt6IYy"
      },
      "source": [
        "# STRING"
      ]
    },
    {
      "cell_type": "code",
      "metadata": {
        "colab": {
          "base_uri": "https://localhost:8080/"
        },
        "id": "X1VHoDAU3LYx",
        "outputId": "05a20b00-2996-4cc5-f7fa-c64b87b7ef38"
      },
      "source": [
        "# Replace String\r\n",
        "word = \"Hello World in Python\"\r\n",
        "print(word.replace(\"World\",\"to World\"))"
      ],
      "execution_count": 1,
      "outputs": [
        {
          "output_type": "stream",
          "text": [
            "Hello to World in Python\n"
          ],
          "name": "stdout"
        }
      ]
    },
    {
      "cell_type": "code",
      "metadata": {
        "colab": {
          "base_uri": "https://localhost:8080/"
        },
        "id": "WRrONPJ23idC",
        "outputId": "a0ec17e0-b383-40a9-fec2-a065926722d6"
      },
      "source": [
        "# Reverse Strings\r\n",
        "w1= \"Hello to the world of Python\"\r\n",
        "print(''.join(reversed(w1)))"
      ],
      "execution_count": 4,
      "outputs": [
        {
          "output_type": "stream",
          "text": [
            "nohtyP fo dlrow eht ot olleH\n"
          ],
          "name": "stdout"
        }
      ]
    },
    {
      "cell_type": "code",
      "metadata": {
        "colab": {
          "base_uri": "https://localhost:8080/"
        },
        "id": "8XS1KDAO4RDO",
        "outputId": "36770f60-e819-456c-a890-6da501dadc67"
      },
      "source": [
        "# Split a String\r\n",
        "s1= \"Welcome to LetsUpgrade Course of Python Essentials\"\r\n",
        "print(s1.split())"
      ],
      "execution_count": 5,
      "outputs": [
        {
          "output_type": "stream",
          "text": [
            "['Welcome', 'to', 'LetsUpgrade', 'Course', 'of', 'Python', 'Essentials']\n"
          ],
          "name": "stdout"
        }
      ]
    },
    {
      "cell_type": "code",
      "metadata": {
        "colab": {
          "base_uri": "https://localhost:8080/"
        },
        "id": "Vkf3vA5h4iIK",
        "outputId": "dfefe71b-6a19-4394-94fb-b37768888c1e"
      },
      "source": [
        "# Capitialize First Letter of a Sentence\r\n",
        "s1= \"hello, how are you all ?\"\r\n",
        "print(s1.capitalize())"
      ],
      "execution_count": 6,
      "outputs": [
        {
          "output_type": "stream",
          "text": [
            "Hello, how are you all ?\n"
          ],
          "name": "stdout"
        }
      ]
    },
    {
      "cell_type": "code",
      "metadata": {
        "colab": {
          "base_uri": "https://localhost:8080/"
        },
        "id": "nyAlLPoy5aI1",
        "outputId": "798ccdf1-88f7-4671-d2fe-7ef2fbb6b458"
      },
      "source": [
        "# Swap small letters to capital and vice-versa\r\n",
        "s1=\"Hello \"\r\n",
        "s2=\"wORLD \"\r\n",
        "S1=s1.swapcase()\r\n",
        "S2= s2.swapcase()\r\n",
        "print(S1+S2)"
      ],
      "execution_count": 7,
      "outputs": [
        {
          "output_type": "stream",
          "text": [
            "hELLO World \n"
          ],
          "name": "stdout"
        }
      ]
    },
    {
      "cell_type": "markdown",
      "metadata": {
        "id": "BKzcirC055oo"
      },
      "source": [
        "# LIST OBJECTS"
      ]
    },
    {
      "cell_type": "code",
      "metadata": {
        "colab": {
          "base_uri": "https://localhost:8080/"
        },
        "id": "QrZrL4Kx6CbY",
        "outputId": "4438378d-579d-4df6-fc39-38e997ed4902"
      },
      "source": [
        "# Insert in list\r\n",
        "l1=['Delhi','the','capital','of','INDIA']\r\n",
        "l1.insert(1,'is')\r\n",
        "print(l1)"
      ],
      "execution_count": 11,
      "outputs": [
        {
          "output_type": "stream",
          "text": [
            "['Delhi', 'is', 'the', 'capital', 'of', 'INDIA']\n"
          ],
          "name": "stdout"
        }
      ]
    },
    {
      "cell_type": "code",
      "metadata": {
        "colab": {
          "base_uri": "https://localhost:8080/"
        },
        "id": "hWcy6KX47DOg",
        "outputId": "2e84d019-a4de-4116-d12e-ec02a91b0f9b"
      },
      "source": [
        "# Sort the data and arrange in Increasing and Decreasing Order \r\n",
        "l2=[3.1, 5.8, 2.4, 9.4, 13.5, 7.2]\r\n",
        "l2.sort(reverse=True)\r\n",
        "print(l2)\r\n",
        "l2.sort(reverse=False)\r\n",
        "print(l2)"
      ],
      "execution_count": 25,
      "outputs": [
        {
          "output_type": "stream",
          "text": [
            "[13.5, 9.4, 7.2, 5.8, 3.1, 2.4]\n",
            "[2.4, 3.1, 5.8, 7.2, 9.4, 13.5]\n"
          ],
          "name": "stdout"
        }
      ]
    },
    {
      "cell_type": "code",
      "metadata": {
        "colab": {
          "base_uri": "https://localhost:8080/"
        },
        "id": "pxt6PwhQ89dN",
        "outputId": "61bccac8-66cd-4720-8e07-90bcc3a0544a"
      },
      "source": [
        "# Append a list\r\n",
        "l2.append(9.1)\r\n",
        "print(l2)"
      ],
      "execution_count": 26,
      "outputs": [
        {
          "output_type": "stream",
          "text": [
            "[2.4, 3.1, 5.8, 7.2, 9.4, 13.5, 9.1]\n"
          ],
          "name": "stdout"
        }
      ]
    },
    {
      "cell_type": "code",
      "metadata": {
        "colab": {
          "base_uri": "https://localhost:8080/"
        },
        "id": "jJ9GXgo99nPp",
        "outputId": "827f4e01-a9ff-4f22-97f0-8efbad27b646"
      },
      "source": [
        "# Remove a specific element from a list\r\n",
        "l2.remove(3.1)\r\n",
        "print(l2)"
      ],
      "execution_count": 27,
      "outputs": [
        {
          "output_type": "stream",
          "text": [
            "[2.4, 5.8, 7.2, 9.4, 13.5, 9.1]\n"
          ],
          "name": "stdout"
        }
      ]
    },
    {
      "cell_type": "code",
      "metadata": {
        "colab": {
          "base_uri": "https://localhost:8080/"
        },
        "id": "dUzTzuC29x11",
        "outputId": "c4211119-b2e8-47e4-c426-faf4d9ef0682"
      },
      "source": [
        "# Join a list to make a string\r\n",
        "print(l1)\r\n",
        "space = ' '\r\n",
        "print(space.join(l1))"
      ],
      "execution_count": 28,
      "outputs": [
        {
          "output_type": "stream",
          "text": [
            "['Delhi', 'is', 'the', 'capital', 'of', 'INDIA']\n",
            "Delhi is the capital of INDIA\n"
          ],
          "name": "stdout"
        }
      ]
    },
    {
      "cell_type": "markdown",
      "metadata": {
        "id": "mHXrC2zT-d-2"
      },
      "source": [
        "# Dictionary"
      ]
    },
    {
      "cell_type": "code",
      "metadata": {
        "colab": {
          "base_uri": "https://localhost:8080/"
        },
        "id": "pFMQWRzw-j0u",
        "outputId": "a3cd79d2-8f88-471f-88b2-165c3bdd90e9"
      },
      "source": [
        "# Access Elements from Dictionary\r\n",
        "d1={'Name': 'Nirmit','Age': 21}\r\n",
        "print(\"Name is :\"+d1['Name'])\r\n",
        "print(\"Age is :\"+str(d1['Age']))"
      ],
      "execution_count": 44,
      "outputs": [
        {
          "output_type": "stream",
          "text": [
            "Name is :Nirmit\n",
            "Age is :21\n"
          ],
          "name": "stdout"
        }
      ]
    },
    {
      "cell_type": "code",
      "metadata": {
        "colab": {
          "base_uri": "https://localhost:8080/"
        },
        "id": "Q5qabIXn__EK",
        "outputId": "a61081f3-0f55-4be7-f473-2aacc9f19888"
      },
      "source": [
        "# Add Key to Dictionary\r\n",
        "d1['Address'] = 'Panipat'\r\n",
        "print(d1)"
      ],
      "execution_count": 45,
      "outputs": [
        {
          "output_type": "stream",
          "text": [
            "{'Name': 'Nirmit', 'Age': 21, 'Address': 'Panipat'}\n"
          ],
          "name": "stdout"
        }
      ]
    },
    {
      "cell_type": "code",
      "metadata": {
        "colab": {
          "base_uri": "https://localhost:8080/"
        },
        "id": "PWLKwNjaAN4y",
        "outputId": "81977481-76d9-46c1-a505-fedb54360d79"
      },
      "source": [
        "# Remove or Pop the last key-value\r\n",
        "print(d1.popitem())\r\n",
        "print(d1)"
      ],
      "execution_count": 46,
      "outputs": [
        {
          "output_type": "stream",
          "text": [
            "('Address', 'Panipat')\n",
            "{'Name': 'Nirmit', 'Age': 21}\n"
          ],
          "name": "stdout"
        }
      ]
    },
    {
      "cell_type": "code",
      "metadata": {
        "colab": {
          "base_uri": "https://localhost:8080/"
        },
        "id": "uNTx72AEA0Ng",
        "outputId": "111d5c64-c805-4a7f-f471-5f9f92408829"
      },
      "source": [
        "# Return all the values\r\n",
        "print(d1.values())"
      ],
      "execution_count": 47,
      "outputs": [
        {
          "output_type": "stream",
          "text": [
            "dict_values(['Nirmit', 21])\n"
          ],
          "name": "stdout"
        }
      ]
    },
    {
      "cell_type": "code",
      "metadata": {
        "colab": {
          "base_uri": "https://localhost:8080/"
        },
        "id": "a6AIj8ucBrrP",
        "outputId": "8c1c9c4f-a689-49a4-bd3a-d4cb9dd34b46"
      },
      "source": [
        "# Clear the dictionary\r\n",
        "print(\"Before clearing the dictionary: \")\r\n",
        "print(d1)\r\n",
        "print(\"After clearing the dictionary: \")\r\n",
        "print(d1.clear()) "
      ],
      "execution_count": 48,
      "outputs": [
        {
          "output_type": "stream",
          "text": [
            "Before clearing the dictionary: \n",
            "{'Name': 'Nirmit', 'Age': 21}\n",
            "After clearing the dictionary: \n",
            "None\n"
          ],
          "name": "stdout"
        }
      ]
    }
  ]
}